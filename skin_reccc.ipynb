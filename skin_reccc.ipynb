{
 "cells": [
  {
   "cell_type": "code",
   "execution_count": 5,
   "metadata": {},
   "outputs": [],
   "source": [
    "#import the necessary libararies\n",
    "import pandas as pd \n",
    "import numpy as np "
   ]
  },
  {
   "cell_type": "code",
   "execution_count": 6,
   "metadata": {},
   "outputs": [
    {
     "data": {
      "text/html": [
       "<div>\n",
       "<style scoped>\n",
       "    .dataframe tbody tr th:only-of-type {\n",
       "        vertical-align: middle;\n",
       "    }\n",
       "\n",
       "    .dataframe tbody tr th {\n",
       "        vertical-align: top;\n",
       "    }\n",
       "\n",
       "    .dataframe thead th {\n",
       "        text-align: right;\n",
       "    }\n",
       "</style>\n",
       "<table border=\"1\" class=\"dataframe\">\n",
       "  <thead>\n",
       "    <tr style=\"text-align: right;\">\n",
       "      <th></th>\n",
       "      <th>Label</th>\n",
       "      <th>brand</th>\n",
       "      <th>name</th>\n",
       "      <th>price</th>\n",
       "      <th>rank</th>\n",
       "      <th>ingredients</th>\n",
       "      <th>Combination</th>\n",
       "      <th>Dry</th>\n",
       "      <th>Normal</th>\n",
       "      <th>Oily</th>\n",
       "      <th>Sensitive</th>\n",
       "    </tr>\n",
       "  </thead>\n",
       "  <tbody>\n",
       "    <tr>\n",
       "      <th>0</th>\n",
       "      <td>Moisturizer</td>\n",
       "      <td>LA MER</td>\n",
       "      <td>Crème de la Mer</td>\n",
       "      <td>175</td>\n",
       "      <td>4.1</td>\n",
       "      <td>Algae (Seaweed) Extract, Mineral Oil, Petrolat...</td>\n",
       "      <td>1</td>\n",
       "      <td>1</td>\n",
       "      <td>1</td>\n",
       "      <td>1</td>\n",
       "      <td>1</td>\n",
       "    </tr>\n",
       "    <tr>\n",
       "      <th>1</th>\n",
       "      <td>Moisturizer</td>\n",
       "      <td>SK-II</td>\n",
       "      <td>Facial Treatment Essence</td>\n",
       "      <td>179</td>\n",
       "      <td>4.1</td>\n",
       "      <td>Galactomyces Ferment Filtrate (Pitera), Butyle...</td>\n",
       "      <td>1</td>\n",
       "      <td>1</td>\n",
       "      <td>1</td>\n",
       "      <td>1</td>\n",
       "      <td>1</td>\n",
       "    </tr>\n",
       "    <tr>\n",
       "      <th>2</th>\n",
       "      <td>Moisturizer</td>\n",
       "      <td>DRUNK ELEPHANT</td>\n",
       "      <td>Protini™ Polypeptide Cream</td>\n",
       "      <td>68</td>\n",
       "      <td>4.4</td>\n",
       "      <td>Water, Dicaprylyl Carbonate, Glycerin, Ceteary...</td>\n",
       "      <td>1</td>\n",
       "      <td>1</td>\n",
       "      <td>1</td>\n",
       "      <td>1</td>\n",
       "      <td>0</td>\n",
       "    </tr>\n",
       "    <tr>\n",
       "      <th>3</th>\n",
       "      <td>Moisturizer</td>\n",
       "      <td>LA MER</td>\n",
       "      <td>The Moisturizing Soft Cream</td>\n",
       "      <td>175</td>\n",
       "      <td>3.8</td>\n",
       "      <td>Algae (Seaweed) Extract, Cyclopentasiloxane, P...</td>\n",
       "      <td>1</td>\n",
       "      <td>1</td>\n",
       "      <td>1</td>\n",
       "      <td>1</td>\n",
       "      <td>1</td>\n",
       "    </tr>\n",
       "    <tr>\n",
       "      <th>4</th>\n",
       "      <td>Moisturizer</td>\n",
       "      <td>IT COSMETICS</td>\n",
       "      <td>Your Skin But Better™ CC+™ Cream with SPF 50+</td>\n",
       "      <td>38</td>\n",
       "      <td>4.1</td>\n",
       "      <td>Water, Snail Secretion Filtrate, Phenyl Trimet...</td>\n",
       "      <td>1</td>\n",
       "      <td>1</td>\n",
       "      <td>1</td>\n",
       "      <td>1</td>\n",
       "      <td>1</td>\n",
       "    </tr>\n",
       "  </tbody>\n",
       "</table>\n",
       "</div>"
      ],
      "text/plain": [
       "         Label           brand                                           name  \\\n",
       "0  Moisturizer          LA MER                                Crème de la Mer   \n",
       "1  Moisturizer           SK-II                       Facial Treatment Essence   \n",
       "2  Moisturizer  DRUNK ELEPHANT                     Protini™ Polypeptide Cream   \n",
       "3  Moisturizer          LA MER                    The Moisturizing Soft Cream   \n",
       "4  Moisturizer    IT COSMETICS  Your Skin But Better™ CC+™ Cream with SPF 50+   \n",
       "\n",
       "   price  rank                                        ingredients  \\\n",
       "0    175   4.1  Algae (Seaweed) Extract, Mineral Oil, Petrolat...   \n",
       "1    179   4.1  Galactomyces Ferment Filtrate (Pitera), Butyle...   \n",
       "2     68   4.4  Water, Dicaprylyl Carbonate, Glycerin, Ceteary...   \n",
       "3    175   3.8  Algae (Seaweed) Extract, Cyclopentasiloxane, P...   \n",
       "4     38   4.1  Water, Snail Secretion Filtrate, Phenyl Trimet...   \n",
       "\n",
       "   Combination  Dry  Normal  Oily  Sensitive  \n",
       "0            1    1       1     1          1  \n",
       "1            1    1       1     1          1  \n",
       "2            1    1       1     1          0  \n",
       "3            1    1       1     1          1  \n",
       "4            1    1       1     1          1  "
      ]
     },
     "execution_count": 6,
     "metadata": {},
     "output_type": "execute_result"
    }
   ],
   "source": [
    "df=pd.read_csv('cosmetic_p.csv')\n",
    "df.head()"
   ]
  },
  {
   "cell_type": "code",
   "execution_count": 7,
   "metadata": {},
   "outputs": [],
   "source": [
    "\n",
    "df=df.loc[:,['Label','brand','name','price','rank','ingredients']]"
   ]
  },
  {
   "cell_type": "code",
   "execution_count": 8,
   "metadata": {},
   "outputs": [
    {
     "data": {
      "text/plain": [
       "array(['Moisturizer', 'Cleanser', 'Treatment', 'Face Mask', 'Eye cream',\n",
       "       'Sun protect'], dtype=object)"
      ]
     },
     "execution_count": 8,
     "metadata": {},
     "output_type": "execute_result"
    }
   ],
   "source": [
    "df['Label'].unique()"
   ]
  },
  {
   "cell_type": "code",
   "execution_count": 9,
   "metadata": {},
   "outputs": [
    {
     "data": {
      "text/html": [
       "<div>\n",
       "<style scoped>\n",
       "    .dataframe tbody tr th:only-of-type {\n",
       "        vertical-align: middle;\n",
       "    }\n",
       "\n",
       "    .dataframe tbody tr th {\n",
       "        vertical-align: top;\n",
       "    }\n",
       "\n",
       "    .dataframe thead th {\n",
       "        text-align: right;\n",
       "    }\n",
       "</style>\n",
       "<table border=\"1\" class=\"dataframe\">\n",
       "  <thead>\n",
       "    <tr style=\"text-align: right;\">\n",
       "      <th></th>\n",
       "      <th>Label</th>\n",
       "      <th>brand</th>\n",
       "      <th>name</th>\n",
       "      <th>price</th>\n",
       "      <th>rank</th>\n",
       "      <th>ingredients</th>\n",
       "    </tr>\n",
       "  </thead>\n",
       "  <tbody>\n",
       "    <tr>\n",
       "      <th>0</th>\n",
       "      <td>Moisturizer</td>\n",
       "      <td>LA MER</td>\n",
       "      <td>Crème de la Mer</td>\n",
       "      <td>175</td>\n",
       "      <td>4.1</td>\n",
       "      <td>Algae (Seaweed) Extract, Mineral Oil, Petrolat...</td>\n",
       "    </tr>\n",
       "    <tr>\n",
       "      <th>1</th>\n",
       "      <td>Moisturizer</td>\n",
       "      <td>SK-II</td>\n",
       "      <td>Facial Treatment Essence</td>\n",
       "      <td>179</td>\n",
       "      <td>4.1</td>\n",
       "      <td>Galactomyces Ferment Filtrate (Pitera), Butyle...</td>\n",
       "    </tr>\n",
       "    <tr>\n",
       "      <th>2</th>\n",
       "      <td>Moisturizer</td>\n",
       "      <td>DRUNK ELEPHANT</td>\n",
       "      <td>Protini™ Polypeptide Cream</td>\n",
       "      <td>68</td>\n",
       "      <td>4.4</td>\n",
       "      <td>Water, Dicaprylyl Carbonate, Glycerin, Ceteary...</td>\n",
       "    </tr>\n",
       "  </tbody>\n",
       "</table>\n",
       "</div>"
      ],
      "text/plain": [
       "         Label           brand                        name  price  rank  \\\n",
       "0  Moisturizer          LA MER             Crème de la Mer    175   4.1   \n",
       "1  Moisturizer           SK-II    Facial Treatment Essence    179   4.1   \n",
       "2  Moisturizer  DRUNK ELEPHANT  Protini™ Polypeptide Cream     68   4.4   \n",
       "\n",
       "                                         ingredients  \n",
       "0  Algae (Seaweed) Extract, Mineral Oil, Petrolat...  \n",
       "1  Galactomyces Ferment Filtrate (Pitera), Butyle...  \n",
       "2  Water, Dicaprylyl Carbonate, Glycerin, Ceteary...  "
      ]
     },
     "execution_count": 9,
     "metadata": {},
     "output_type": "execute_result"
    }
   ],
   "source": [
    "df.head(3)"
   ]
  },
  {
   "cell_type": "code",
   "execution_count": 10,
   "metadata": {},
   "outputs": [],
   "source": [
    "from sklearn.feature_extraction.text import CountVectorizer\n",
    "cv = CountVectorizer(max_features=5000,stop_words='english')"
   ]
  },
  {
   "cell_type": "code",
   "execution_count": 11,
   "metadata": {},
   "outputs": [],
   "source": [
    "vector = cv.fit_transform(df['ingredients']).toarray()"
   ]
  },
  {
   "cell_type": "code",
   "execution_count": 12,
   "metadata": {},
   "outputs": [
    {
     "data": {
      "text/plain": [
       "array([[0, 0, 0, ..., 0, 0, 0],\n",
       "       [0, 0, 0, ..., 0, 0, 0],\n",
       "       [0, 0, 0, ..., 0, 0, 0],\n",
       "       ...,\n",
       "       [0, 0, 0, ..., 0, 0, 0],\n",
       "       [0, 0, 0, ..., 0, 0, 0],\n",
       "       [0, 0, 0, ..., 0, 0, 0]])"
      ]
     },
     "execution_count": 12,
     "metadata": {},
     "output_type": "execute_result"
    }
   ],
   "source": [
    "vector"
   ]
  },
  {
   "cell_type": "code",
   "execution_count": 13,
   "metadata": {},
   "outputs": [
    {
     "data": {
      "text/plain": [
       "(1472, 4456)"
      ]
     },
     "execution_count": 13,
     "metadata": {},
     "output_type": "execute_result"
    }
   ],
   "source": [
    "vector.shape\n"
   ]
  },
  {
   "cell_type": "code",
   "execution_count": 14,
   "metadata": {},
   "outputs": [],
   "source": [
    "from sklearn.metrics.pairwise import cosine_similarity"
   ]
  },
  {
   "cell_type": "code",
   "execution_count": 15,
   "metadata": {},
   "outputs": [],
   "source": [
    "similarity = cosine_similarity(vector)"
   ]
  },
  {
   "cell_type": "code",
   "execution_count": 16,
   "metadata": {},
   "outputs": [
    {
     "data": {
      "text/plain": [
       "array([[1.        , 0.10206207, 0.20007309, ..., 0.28141059, 0.07844645,\n",
       "        0.        ],\n",
       "       [0.10206207, 1.        , 0.31457643, ..., 0.12309149, 0.16012815,\n",
       "        0.        ],\n",
       "       [0.20007309, 0.31457643, 1.        , ..., 0.22010219, 0.12725695,\n",
       "        0.        ],\n",
       "       ...,\n",
       "       [0.28141059, 0.12309149, 0.22010219, ..., 1.        , 0.17739372,\n",
       "        0.        ],\n",
       "       [0.07844645, 0.16012815, 0.12725695, ..., 0.17739372, 1.        ,\n",
       "        0.        ],\n",
       "       [0.        , 0.        , 0.        , ..., 0.        , 0.        ,\n",
       "        1.        ]])"
      ]
     },
     "execution_count": 16,
     "metadata": {},
     "output_type": "execute_result"
    }
   ],
   "source": [
    "similarity"
   ]
  },
  {
   "cell_type": "code",
   "execution_count": 17,
   "metadata": {},
   "outputs": [
    {
     "data": {
      "text/plain": [
       "1"
      ]
     },
     "execution_count": 17,
     "metadata": {},
     "output_type": "execute_result"
    }
   ],
   "source": [
    "df[df['name'] == 'Facial Treatment Essence'].index[0]"
   ]
  },
  {
   "cell_type": "code",
   "execution_count": 18,
   "metadata": {},
   "outputs": [],
   "source": [
    "def moist_recommend(moist):\n",
    "    index = df[df['name'] == moist].index[0]\n",
    "    distances = sorted(list(enumerate(similarity[index])),reverse=True,key = lambda x: x[1])\n",
    "    for i in distances[1:6]:\n",
    "        print(df.iloc[i[0]])"
   ]
  },
  {
   "cell_type": "code",
   "execution_count": 19,
   "metadata": {},
   "outputs": [
    {
     "name": "stdout",
     "output_type": "stream",
     "text": [
      "Label                                                  Face Mask\n",
      "brand                                                    LANEIGE\n",
      "name           Water Pocket Sheet Mask Water Bank (Moisturizing)\n",
      "price                                                          6\n",
      "rank                                                         4.1\n",
      "ingredients    Water, Dipropylene Glycol, Glycerin, 1,2-Hexan...\n",
      "Name: 1066, dtype: object\n",
      "Label                                                   Cleanser\n",
      "brand                                                    LANEIGE\n",
      "name           Essential Power Skin Toner for Combination to ...\n",
      "price                                                         28\n",
      "rank                                                         4.4\n",
      "ingredients    Water, Alcohol, Glycereth-26, Dipropylene Glyc...\n",
      "Name: 444, dtype: object\n",
      "Label                                                Sun protect\n",
      "brand                                                      FRESH\n",
      "name                      Sugar Sport Treatment Sunscreen SPF 30\n",
      "price                                                         25\n",
      "rank                                                         4.1\n",
      "ingredients    Cera Alba (Beeswax), Ricinus Communis (Castor)...\n",
      "Name: 1388, dtype: object\n",
      "Label                                                   Cleanser\n",
      "brand                                                      FRESH\n",
      "name                       Seaberry Skin Nutrition Cleansing Oil\n",
      "price                                                         42\n",
      "rank                                                         4.5\n",
      "ingredients    Vitis Vinifera (Grape) Seed Oil, Hydrogenated ...\n",
      "Name: 441, dtype: object\n",
      "Label                                                  Treatment\n",
      "brand                                               OLEHENRIKSEN\n",
      "name                      Power Peel™ Transforming Facial System\n",
      "price                                                         50\n",
      "rank                                                         4.6\n",
      "ingredients    Water, Kaolin, Prunus Amygdalus Dulcis (Sweet ...\n",
      "Name: 700, dtype: object\n"
     ]
    }
   ],
   "source": [
    "moist_recommend('Water Bank Dual Layer Face Oil')"
   ]
  },
  {
   "cell_type": "code",
   "execution_count": 20,
   "metadata": {},
   "outputs": [],
   "source": [
    "import pickle"
   ]
  },
  {
   "cell_type": "code",
   "execution_count": 21,
   "metadata": {},
   "outputs": [],
   "source": [
    "pickle.dump(df.to_dict,open('skincare_dict.pkl','wb'))\n",
    "pickle.dump(similarity,open('similarity.pkl','wb'))"
   ]
  },
  {
   "cell_type": "code",
   "execution_count": null,
   "metadata": {},
   "outputs": [],
   "source": []
  },
  {
   "cell_type": "code",
   "execution_count": 22,
   "metadata": {},
   "outputs": [],
   "source": [
    "def display_only_that(brand):\n",
    "    df_brand=df.loc[df['brand'] == brand]\n",
    "   \n",
    "    \n",
    "    return df_brand"
   ]
  },
  {
   "cell_type": "code",
   "execution_count": 23,
   "metadata": {},
   "outputs": [
    {
     "data": {
      "text/html": [
       "<div>\n",
       "<style scoped>\n",
       "    .dataframe tbody tr th:only-of-type {\n",
       "        vertical-align: middle;\n",
       "    }\n",
       "\n",
       "    .dataframe tbody tr th {\n",
       "        vertical-align: top;\n",
       "    }\n",
       "\n",
       "    .dataframe thead th {\n",
       "        text-align: right;\n",
       "    }\n",
       "</style>\n",
       "<table border=\"1\" class=\"dataframe\">\n",
       "  <thead>\n",
       "    <tr style=\"text-align: right;\">\n",
       "      <th></th>\n",
       "      <th>Label</th>\n",
       "      <th>brand</th>\n",
       "      <th>name</th>\n",
       "      <th>price</th>\n",
       "      <th>rank</th>\n",
       "      <th>ingredients</th>\n",
       "    </tr>\n",
       "  </thead>\n",
       "  <tbody>\n",
       "    <tr>\n",
       "      <th>0</th>\n",
       "      <td>Moisturizer</td>\n",
       "      <td>LA MER</td>\n",
       "      <td>Crème de la Mer</td>\n",
       "      <td>175</td>\n",
       "      <td>4.1</td>\n",
       "      <td>Algae (Seaweed) Extract, Mineral Oil, Petrolat...</td>\n",
       "    </tr>\n",
       "    <tr>\n",
       "      <th>3</th>\n",
       "      <td>Moisturizer</td>\n",
       "      <td>LA MER</td>\n",
       "      <td>The Moisturizing Soft Cream</td>\n",
       "      <td>175</td>\n",
       "      <td>3.8</td>\n",
       "      <td>Algae (Seaweed) Extract, Cyclopentasiloxane, P...</td>\n",
       "    </tr>\n",
       "    <tr>\n",
       "      <th>9</th>\n",
       "      <td>Moisturizer</td>\n",
       "      <td>LA MER</td>\n",
       "      <td>Little Miss Miracle Limited-Edition Crème de l...</td>\n",
       "      <td>325</td>\n",
       "      <td>5.0</td>\n",
       "      <td>Algae (Seaweed) Extract, Mineral Oil, Petrolat...</td>\n",
       "    </tr>\n",
       "    <tr>\n",
       "      <th>20</th>\n",
       "      <td>Moisturizer</td>\n",
       "      <td>LA MER</td>\n",
       "      <td>Crème de la Mer Mini</td>\n",
       "      <td>85</td>\n",
       "      <td>4.1</td>\n",
       "      <td>Algae (Seaweed) Extract, Mineral Oil, Petrolat...</td>\n",
       "    </tr>\n",
       "    <tr>\n",
       "      <th>52</th>\n",
       "      <td>Moisturizer</td>\n",
       "      <td>LA MER</td>\n",
       "      <td>The Renewal Oil</td>\n",
       "      <td>245</td>\n",
       "      <td>4.2</td>\n",
       "      <td>Limnanthes Alba (Meadowfoam) Seed Oil, Dimethi...</td>\n",
       "    </tr>\n",
       "    <tr>\n",
       "      <th>97</th>\n",
       "      <td>Moisturizer</td>\n",
       "      <td>LA MER</td>\n",
       "      <td>The Concentrate Mini</td>\n",
       "      <td>190</td>\n",
       "      <td>0.0</td>\n",
       "      <td>Cyclopentasiloxane, Algae (Seaweed) Extract, G...</td>\n",
       "    </tr>\n",
       "    <tr>\n",
       "      <th>98</th>\n",
       "      <td>Moisturizer</td>\n",
       "      <td>LA MER</td>\n",
       "      <td>The Moisturizing Cool Gel Cream</td>\n",
       "      <td>175</td>\n",
       "      <td>3.3</td>\n",
       "      <td>Visit the La Mer boutique</td>\n",
       "    </tr>\n",
       "    <tr>\n",
       "      <th>162</th>\n",
       "      <td>Moisturizer</td>\n",
       "      <td>LA MER</td>\n",
       "      <td>The Moisturizing Soft Lotion</td>\n",
       "      <td>270</td>\n",
       "      <td>3.6</td>\n",
       "      <td>Algae (Seaweed) Extract, Petrolatum, Isocetyl ...</td>\n",
       "    </tr>\n",
       "    <tr>\n",
       "      <th>176</th>\n",
       "      <td>Moisturizer</td>\n",
       "      <td>LA MER</td>\n",
       "      <td>The Renewal Oil Mini</td>\n",
       "      <td>130</td>\n",
       "      <td>4.0</td>\n",
       "      <td>Limnanthes Alba (Meadowfoam) Seed Oil, Dimethi...</td>\n",
       "    </tr>\n",
       "    <tr>\n",
       "      <th>293</th>\n",
       "      <td>Moisturizer</td>\n",
       "      <td>LA MER</td>\n",
       "      <td>The Moisturizing Matte Lotion</td>\n",
       "      <td>270</td>\n",
       "      <td>3.9</td>\n",
       "      <td>Water, Algae (Seaweed) Extract, Propanediol, S...</td>\n",
       "    </tr>\n",
       "    <tr>\n",
       "      <th>315</th>\n",
       "      <td>Cleanser</td>\n",
       "      <td>LA MER</td>\n",
       "      <td>The Cleansing Foam</td>\n",
       "      <td>95</td>\n",
       "      <td>4.3</td>\n",
       "      <td>Declustered Water (+)/Aqua/Eau De-Structuree (...</td>\n",
       "    </tr>\n",
       "    <tr>\n",
       "      <th>355</th>\n",
       "      <td>Cleanser</td>\n",
       "      <td>LA MER</td>\n",
       "      <td>The Tonic</td>\n",
       "      <td>95</td>\n",
       "      <td>4.1</td>\n",
       "      <td>Declustered Water (-)/Aqua/Eau De-Structuree (...</td>\n",
       "    </tr>\n",
       "    <tr>\n",
       "      <th>405</th>\n",
       "      <td>Cleanser</td>\n",
       "      <td>LA MER</td>\n",
       "      <td>The Cleansing Foam Mini</td>\n",
       "      <td>25</td>\n",
       "      <td>5.0</td>\n",
       "      <td>Declustered Water (+)/Aqua/Eau De-Structuree (...</td>\n",
       "    </tr>\n",
       "    <tr>\n",
       "      <th>413</th>\n",
       "      <td>Cleanser</td>\n",
       "      <td>LA MER</td>\n",
       "      <td>The Cleansing Gel</td>\n",
       "      <td>95</td>\n",
       "      <td>4.2</td>\n",
       "      <td>Declustered Water (+)/Aqua/Eau De-Structuree (...</td>\n",
       "    </tr>\n",
       "    <tr>\n",
       "      <th>502</th>\n",
       "      <td>Cleanser</td>\n",
       "      <td>LA MER</td>\n",
       "      <td>The Cleansing Oil</td>\n",
       "      <td>95</td>\n",
       "      <td>4.3</td>\n",
       "      <td>Caprylic/Capric Triglyceride, Polysorbate 85, ...</td>\n",
       "    </tr>\n",
       "    <tr>\n",
       "      <th>545</th>\n",
       "      <td>Cleanser</td>\n",
       "      <td>LA MER</td>\n",
       "      <td>The Cleansing Micellar Water</td>\n",
       "      <td>95</td>\n",
       "      <td>4.5</td>\n",
       "      <td>Declustered Water (-)/Aqua/Eau De-Structuree (...</td>\n",
       "    </tr>\n",
       "    <tr>\n",
       "      <th>587</th>\n",
       "      <td>Treatment</td>\n",
       "      <td>LA MER</td>\n",
       "      <td>The Concentrate</td>\n",
       "      <td>370</td>\n",
       "      <td>3.9</td>\n",
       "      <td>Cyclopentasiloxane, Algae (Seaweed) Extract, G...</td>\n",
       "    </tr>\n",
       "    <tr>\n",
       "      <th>601</th>\n",
       "      <td>Treatment</td>\n",
       "      <td>LA MER</td>\n",
       "      <td>The Regenerating Serum</td>\n",
       "      <td>345</td>\n",
       "      <td>3.9</td>\n",
       "      <td>Water, Algae (Seaweed) Extract, Dimethicone, H...</td>\n",
       "    </tr>\n",
       "    <tr>\n",
       "      <th>613</th>\n",
       "      <td>Treatment</td>\n",
       "      <td>LA MER</td>\n",
       "      <td>The Revitalizing Hydrating Serum</td>\n",
       "      <td>205</td>\n",
       "      <td>4.2</td>\n",
       "      <td>Declustered Water (-)/Aqua/Eau De-Structuree (...</td>\n",
       "    </tr>\n",
       "    <tr>\n",
       "      <th>619</th>\n",
       "      <td>Treatment</td>\n",
       "      <td>LA MER</td>\n",
       "      <td>The Treatment Lotion</td>\n",
       "      <td>150</td>\n",
       "      <td>4.4</td>\n",
       "      <td>Declustered Water (+)/Aqua/Eau De-Structuree (...</td>\n",
       "    </tr>\n",
       "    <tr>\n",
       "      <th>636</th>\n",
       "      <td>Treatment</td>\n",
       "      <td>LA MER</td>\n",
       "      <td>The Perfecting Treatment</td>\n",
       "      <td>245</td>\n",
       "      <td>4.6</td>\n",
       "      <td>Water, Dimethicone, Isododecane, Algae (Seawee...</td>\n",
       "    </tr>\n",
       "    <tr>\n",
       "      <th>840</th>\n",
       "      <td>Face Mask</td>\n",
       "      <td>LA MER</td>\n",
       "      <td>The Lifting and Firming Mask</td>\n",
       "      <td>250</td>\n",
       "      <td>4.9</td>\n",
       "      <td>Declustered Water (-)/Aqua/Eau De-Structuree (...</td>\n",
       "    </tr>\n",
       "    <tr>\n",
       "      <th>871</th>\n",
       "      <td>Face Mask</td>\n",
       "      <td>LA MER</td>\n",
       "      <td>The Brilliance Brightening Mask</td>\n",
       "      <td>250</td>\n",
       "      <td>4.4</td>\n",
       "      <td>Declustered Water (-)/Aqua/Eau De-Structuree (...</td>\n",
       "    </tr>\n",
       "    <tr>\n",
       "      <th>940</th>\n",
       "      <td>Face Mask</td>\n",
       "      <td>LA MER</td>\n",
       "      <td>Treatment Lotion Hydrating Mask</td>\n",
       "      <td>150</td>\n",
       "      <td>4.1</td>\n",
       "      <td>Water, Algae (Seaweed) Extract, Glycerin, Meth...</td>\n",
       "    </tr>\n",
       "    <tr>\n",
       "      <th>957</th>\n",
       "      <td>Face Mask</td>\n",
       "      <td>LA MER</td>\n",
       "      <td>The Lifting and Firming Mask Mini</td>\n",
       "      <td>75</td>\n",
       "      <td>5.0</td>\n",
       "      <td>Declustered Water (-)/Aqua/Eau De-Structuree (...</td>\n",
       "    </tr>\n",
       "    <tr>\n",
       "      <th>1045</th>\n",
       "      <td>Face Mask</td>\n",
       "      <td>LA MER</td>\n",
       "      <td>The Intensive Revitalizing Mask</td>\n",
       "      <td>170</td>\n",
       "      <td>4.9</td>\n",
       "      <td>Water, Isododecane, Algae (Seaweed) Extract, D...</td>\n",
       "    </tr>\n",
       "    <tr>\n",
       "      <th>1093</th>\n",
       "      <td>Eye cream</td>\n",
       "      <td>LA MER</td>\n",
       "      <td>The Eye Concentrate</td>\n",
       "      <td>215</td>\n",
       "      <td>3.6</td>\n",
       "      <td>Algae (Seaweed) Extract, Water, Cyclopentasilo...</td>\n",
       "    </tr>\n",
       "    <tr>\n",
       "      <th>1101</th>\n",
       "      <td>Eye cream</td>\n",
       "      <td>LA MER</td>\n",
       "      <td>The Eye Balm Intense</td>\n",
       "      <td>215</td>\n",
       "      <td>4.1</td>\n",
       "      <td>Water, Seaweed (Algae) Extract, Butyrospermum ...</td>\n",
       "    </tr>\n",
       "    <tr>\n",
       "      <th>1120</th>\n",
       "      <td>Eye cream</td>\n",
       "      <td>LA MER</td>\n",
       "      <td>The Lifting Eye Serum</td>\n",
       "      <td>255</td>\n",
       "      <td>3.5</td>\n",
       "      <td>Declustered Water (-)/Aqua/Eau De-Structuree (...</td>\n",
       "    </tr>\n",
       "    <tr>\n",
       "      <th>1361</th>\n",
       "      <td>Sun protect</td>\n",
       "      <td>LA MER</td>\n",
       "      <td>The Broad Spectrum SPF 50 UV Protecting Fluid</td>\n",
       "      <td>95</td>\n",
       "      <td>4.7</td>\n",
       "      <td>Avobenzone 3.00%, Homosalate 5.00%, Octisalate...</td>\n",
       "    </tr>\n",
       "  </tbody>\n",
       "</table>\n",
       "</div>"
      ],
      "text/plain": [
       "            Label   brand                                               name  \\\n",
       "0     Moisturizer  LA MER                                    Crème de la Mer   \n",
       "3     Moisturizer  LA MER                        The Moisturizing Soft Cream   \n",
       "9     Moisturizer  LA MER  Little Miss Miracle Limited-Edition Crème de l...   \n",
       "20    Moisturizer  LA MER                               Crème de la Mer Mini   \n",
       "52    Moisturizer  LA MER                                    The Renewal Oil   \n",
       "97    Moisturizer  LA MER                               The Concentrate Mini   \n",
       "98    Moisturizer  LA MER                    The Moisturizing Cool Gel Cream   \n",
       "162   Moisturizer  LA MER                       The Moisturizing Soft Lotion   \n",
       "176   Moisturizer  LA MER                               The Renewal Oil Mini   \n",
       "293   Moisturizer  LA MER                      The Moisturizing Matte Lotion   \n",
       "315      Cleanser  LA MER                                 The Cleansing Foam   \n",
       "355      Cleanser  LA MER                                          The Tonic   \n",
       "405      Cleanser  LA MER                            The Cleansing Foam Mini   \n",
       "413      Cleanser  LA MER                                  The Cleansing Gel   \n",
       "502      Cleanser  LA MER                                  The Cleansing Oil   \n",
       "545      Cleanser  LA MER                       The Cleansing Micellar Water   \n",
       "587     Treatment  LA MER                                    The Concentrate   \n",
       "601     Treatment  LA MER                             The Regenerating Serum   \n",
       "613     Treatment  LA MER                   The Revitalizing Hydrating Serum   \n",
       "619     Treatment  LA MER                               The Treatment Lotion   \n",
       "636     Treatment  LA MER                           The Perfecting Treatment   \n",
       "840     Face Mask  LA MER                       The Lifting and Firming Mask   \n",
       "871     Face Mask  LA MER                    The Brilliance Brightening Mask   \n",
       "940     Face Mask  LA MER                    Treatment Lotion Hydrating Mask   \n",
       "957     Face Mask  LA MER                  The Lifting and Firming Mask Mini   \n",
       "1045    Face Mask  LA MER                    The Intensive Revitalizing Mask   \n",
       "1093    Eye cream  LA MER                                The Eye Concentrate   \n",
       "1101    Eye cream  LA MER                               The Eye Balm Intense   \n",
       "1120    Eye cream  LA MER                              The Lifting Eye Serum   \n",
       "1361  Sun protect  LA MER      The Broad Spectrum SPF 50 UV Protecting Fluid   \n",
       "\n",
       "      price  rank                                        ingredients  \n",
       "0       175   4.1  Algae (Seaweed) Extract, Mineral Oil, Petrolat...  \n",
       "3       175   3.8  Algae (Seaweed) Extract, Cyclopentasiloxane, P...  \n",
       "9       325   5.0  Algae (Seaweed) Extract, Mineral Oil, Petrolat...  \n",
       "20       85   4.1  Algae (Seaweed) Extract, Mineral Oil, Petrolat...  \n",
       "52      245   4.2  Limnanthes Alba (Meadowfoam) Seed Oil, Dimethi...  \n",
       "97      190   0.0  Cyclopentasiloxane, Algae (Seaweed) Extract, G...  \n",
       "98      175   3.3                          Visit the La Mer boutique  \n",
       "162     270   3.6  Algae (Seaweed) Extract, Petrolatum, Isocetyl ...  \n",
       "176     130   4.0  Limnanthes Alba (Meadowfoam) Seed Oil, Dimethi...  \n",
       "293     270   3.9  Water, Algae (Seaweed) Extract, Propanediol, S...  \n",
       "315      95   4.3  Declustered Water (+)/Aqua/Eau De-Structuree (...  \n",
       "355      95   4.1  Declustered Water (-)/Aqua/Eau De-Structuree (...  \n",
       "405      25   5.0  Declustered Water (+)/Aqua/Eau De-Structuree (...  \n",
       "413      95   4.2  Declustered Water (+)/Aqua/Eau De-Structuree (...  \n",
       "502      95   4.3  Caprylic/Capric Triglyceride, Polysorbate 85, ...  \n",
       "545      95   4.5  Declustered Water (-)/Aqua/Eau De-Structuree (...  \n",
       "587     370   3.9  Cyclopentasiloxane, Algae (Seaweed) Extract, G...  \n",
       "601     345   3.9  Water, Algae (Seaweed) Extract, Dimethicone, H...  \n",
       "613     205   4.2  Declustered Water (-)/Aqua/Eau De-Structuree (...  \n",
       "619     150   4.4  Declustered Water (+)/Aqua/Eau De-Structuree (...  \n",
       "636     245   4.6  Water, Dimethicone, Isododecane, Algae (Seawee...  \n",
       "840     250   4.9  Declustered Water (-)/Aqua/Eau De-Structuree (...  \n",
       "871     250   4.4  Declustered Water (-)/Aqua/Eau De-Structuree (...  \n",
       "940     150   4.1  Water, Algae (Seaweed) Extract, Glycerin, Meth...  \n",
       "957      75   5.0  Declustered Water (-)/Aqua/Eau De-Structuree (...  \n",
       "1045    170   4.9  Water, Isododecane, Algae (Seaweed) Extract, D...  \n",
       "1093    215   3.6  Algae (Seaweed) Extract, Water, Cyclopentasilo...  \n",
       "1101    215   4.1  Water, Seaweed (Algae) Extract, Butyrospermum ...  \n",
       "1120    255   3.5  Declustered Water (-)/Aqua/Eau De-Structuree (...  \n",
       "1361     95   4.7  Avobenzone 3.00%, Homosalate 5.00%, Octisalate...  "
      ]
     },
     "execution_count": 23,
     "metadata": {},
     "output_type": "execute_result"
    }
   ],
   "source": [
    "display_only_that('LA MER')"
   ]
  },
  {
   "cell_type": "code",
   "execution_count": 24,
   "metadata": {},
   "outputs": [
    {
     "data": {
      "text/plain": [
       "array([[0, 0, 0, ..., 0, 0, 0],\n",
       "       [0, 0, 0, ..., 0, 0, 0],\n",
       "       [0, 0, 0, ..., 0, 0, 0],\n",
       "       ...,\n",
       "       [0, 0, 0, ..., 0, 0, 0],\n",
       "       [0, 0, 0, ..., 0, 0, 0],\n",
       "       [0, 0, 0, ..., 0, 0, 0]])"
      ]
     },
     "execution_count": 24,
     "metadata": {},
     "output_type": "execute_result"
    }
   ],
   "source": [
    "vector"
   ]
  },
  {
   "cell_type": "code",
   "execution_count": 31,
   "metadata": {},
   "outputs": [],
   "source": [
    "\n",
    "\n"
   ]
  },
  {
   "cell_type": "code",
   "execution_count": 71,
   "metadata": {},
   "outputs": [],
   "source": [
    "def Convert(string):\n",
    "    li = list(string.split(\",\"))\n",
    "    return li"
   ]
  },
  {
   "cell_type": "code",
   "execution_count": 83,
   "metadata": {},
   "outputs": [],
   "source": [
    "def similarity_between_ing(ing1,ing2):\n",
    "    i1=[]\n",
    "    i2=[]\n",
    "    i1=ing1\n",
    "    i2=ing2\n",
    "    for i in i1:\n",
    "        for j in i2:\n",
    "            if (i==j):\n",
    "                \n",
    "                print(i)\n",
    "        \n",
    "\n",
    "    "
   ]
  },
  {
   "cell_type": "code",
   "execution_count": 72,
   "metadata": {},
   "outputs": [],
   "source": [
    "ingre1=df['ingredients'].loc[df.index[315]]"
   ]
  },
  {
   "cell_type": "code",
   "execution_count": 73,
   "metadata": {},
   "outputs": [
    {
     "data": {
      "text/plain": [
       "str"
      ]
     },
     "execution_count": 73,
     "metadata": {},
     "output_type": "execute_result"
    }
   ],
   "source": [
    "type(ingre1)"
   ]
  },
  {
   "cell_type": "code",
   "execution_count": 74,
   "metadata": {},
   "outputs": [],
   "source": [
    "g1=[]"
   ]
  },
  {
   "cell_type": "code",
   "execution_count": 75,
   "metadata": {},
   "outputs": [],
   "source": [
    "g1=Convert(ingre1)"
   ]
  },
  {
   "cell_type": "code",
   "execution_count": 76,
   "metadata": {},
   "outputs": [
    {
     "data": {
      "text/plain": [
       "list"
      ]
     },
     "execution_count": 76,
     "metadata": {},
     "output_type": "execute_result"
    }
   ],
   "source": [
    "type(g1)"
   ]
  },
  {
   "cell_type": "code",
   "execution_count": 77,
   "metadata": {},
   "outputs": [
    {
     "name": "stdout",
     "output_type": "stream",
     "text": [
      "['Declustered Water (+)/Aqua/Eau De-Structuree (+)', ' Myristic Acid', ' Glycerin', ' Behenic Acid', ' Palmitic Acid', ' Sodium Methyl Cocoyl Taurate', ' Potassium Hydroxide', ' Lauric Acid', ' Stearic Acid', ' Algae (Seaweed) Extract', ' Sesamum Indicum (Sesame) Seed Oil', ' Medicago Sativa (Alfalfa) Seed Powder', ' Helianthus Annuus (Sunflower) Seedcake', ' Prunus Amygdalus Dulcis (Sweet Almond) Seed Meal', ' Eucalyptus Globulus (Eucalyptus) Leaf Oil', ' Sodium Gluconate', ' Copper Gluconate', ' Calcium Gluconate', ' Magnesium Gluconate', ' Zinc Gluconate', ' Tocopheryl Succinate', ' Niacin', ' Sesamum Indicum (Sesame) Seed Powder', ' Quartz Powder', ' Nephrite Powder', ' Pearl Powder', ' Caffeine', ' Sea Salt/Maris Sal/Sel Marin', ' Humic Acids', ' Sodium Hyaluronate', ' Sucrose', ' Tourmaline', ' Macrocystis Pyrifera (Kelp) Protein', ' Polyquaternium-51', ' Aloe Barbadensis Leaf Water', ' Trehalose', ' Cellulose', ' Butylene Glycol', ' Sodium Coco Pg-Dimonium Chloride Phosphate', ' Sodium Bicarbonate', ' Sodium Pca', ' Peg-3 Distearate', ' Urea', ' Fragrance', ' Disodium Edta', ' Linalool', ' Limonene', ' Phenoxyethanol', ' Methylchloroisothiazolinone', ' Methylisothiazolinone', ' Yellow 5 (Ci 19140)', ' Yellow 6 (Ci 15985)', ' Blue 1 (Ci 42090)', ' Green 5 (Ci 61570)']\n"
     ]
    }
   ],
   "source": [
    "print(g1)"
   ]
  },
  {
   "cell_type": "code",
   "execution_count": 78,
   "metadata": {},
   "outputs": [],
   "source": [
    "ingre2=df['ingredients'].loc[df.index[413]]"
   ]
  },
  {
   "cell_type": "code",
   "execution_count": 79,
   "metadata": {},
   "outputs": [
    {
     "data": {
      "text/plain": [
       "str"
      ]
     },
     "execution_count": 79,
     "metadata": {},
     "output_type": "execute_result"
    }
   ],
   "source": [
    "type(ingre2)"
   ]
  },
  {
   "cell_type": "code",
   "execution_count": 80,
   "metadata": {},
   "outputs": [],
   "source": [
    "g2=[]"
   ]
  },
  {
   "cell_type": "code",
   "execution_count": 81,
   "metadata": {},
   "outputs": [],
   "source": [
    "g2=Convert(ingre2)"
   ]
  },
  {
   "cell_type": "code",
   "execution_count": 82,
   "metadata": {},
   "outputs": [
    {
     "name": "stdout",
     "output_type": "stream",
     "text": [
      "['Declustered Water (+)/Aqua/Eau De-Structuree (+)', ' Cocamidopropyl Hydroxysultaine', ' Sodium Cocoyl Sarcosinate', ' Coco-Betaine', ' Sodium Laureth Sulfate', ' Sodium Chloride', ' Aloe Barbadensis Leaf Extract', ' Avena Sativa (Oat) Kernel Extract', ' Algae (Seaweed) Extract', ' Sesamum Indicum (Sesame) Seed Oil', ' Medicago Sativa (Alfalfa) Seed Powder', ' Helianthus Annuus (Sunflower) Seedcake', ' Prunus Amygdalus Dulcis (Sweet Almond) Seed Meal', ' Eucalyptus Globulus (Eucalyptus) Leaf Oil', ' Sodium Gluconate', ' Copper Gluconate', ' Calcium Gluconate', ' Magnesium Gluconate', ' Zinc Gluconate', ' Tocopheryl Succinate', ' Niacin', ' Sesamum Indicum (Sesame) Seed Powder', ' Butylene Glycol', ' Sucrose', ' Caprylyl Glycol', ' Sodium Bicarbonate', ' Tourmaline', ' Hexylene Glycol', ' Fragrance', ' Edta', ' Disodium Edta', ' Methylchloroisothiazolinone', ' Methylisothiazolinone', ' Phenoxyethanol', ' Alpha-Isomethyl Ionone', ' Geraniol', ' Butylphenyl Methylpropional', ' Linalool', ' Green 5 (Ci 61570)', ' Yellow 5 (Ci 19140)']\n"
     ]
    }
   ],
   "source": [
    "print(g2)"
   ]
  },
  {
   "cell_type": "code",
   "execution_count": 84,
   "metadata": {},
   "outputs": [
    {
     "name": "stdout",
     "output_type": "stream",
     "text": [
      "Declustered Water (+)/Aqua/Eau De-Structuree (+)\n",
      " Algae (Seaweed) Extract\n",
      " Sesamum Indicum (Sesame) Seed Oil\n",
      " Medicago Sativa (Alfalfa) Seed Powder\n",
      " Helianthus Annuus (Sunflower) Seedcake\n",
      " Prunus Amygdalus Dulcis (Sweet Almond) Seed Meal\n",
      " Eucalyptus Globulus (Eucalyptus) Leaf Oil\n",
      " Sodium Gluconate\n",
      " Copper Gluconate\n",
      " Calcium Gluconate\n",
      " Magnesium Gluconate\n",
      " Zinc Gluconate\n",
      " Tocopheryl Succinate\n",
      " Niacin\n",
      " Sesamum Indicum (Sesame) Seed Powder\n",
      " Sucrose\n",
      " Tourmaline\n",
      " Butylene Glycol\n",
      " Sodium Bicarbonate\n",
      " Fragrance\n",
      " Disodium Edta\n",
      " Linalool\n",
      " Phenoxyethanol\n",
      " Methylchloroisothiazolinone\n",
      " Methylisothiazolinone\n",
      " Yellow 5 (Ci 19140)\n",
      " Green 5 (Ci 61570)\n"
     ]
    }
   ],
   "source": [
    "similarity_between_ing(g1,g2)"
   ]
  }
 ],
 "metadata": {
  "kernelspec": {
   "display_name": "Python 3",
   "language": "python",
   "name": "python3"
  },
  "language_info": {
   "codemirror_mode": {
    "name": "ipython",
    "version": 3
   },
   "file_extension": ".py",
   "mimetype": "text/x-python",
   "name": "python",
   "nbconvert_exporter": "python",
   "pygments_lexer": "ipython3",
   "version": "3.9.6"
  },
  "orig_nbformat": 4,
  "vscode": {
   "interpreter": {
    "hash": "31f2aee4e71d21fbe5cf8b01ff0e069b9275f58929596ceb00d14d90e3e16cd6"
   }
  }
 },
 "nbformat": 4,
 "nbformat_minor": 2
}
